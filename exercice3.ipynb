{
  "nbformat": 4,
  "nbformat_minor": 0,
  "metadata": {
    "colab": {
      "provenance": []
    },
    "kernelspec": {
      "name": "python3",
      "display_name": "Python 3"
    },
    "language_info": {
      "name": "python"
    }
  },
  "cells": [
    {
      "cell_type": "markdown",
      "source": [
        "**Enigmes quantique- La bibliothèque quantique**"
      ],
      "metadata": {
        "id": "YSPE6dIE20Nt"
      }
    },
    {
      "cell_type": "markdown",
      "source": [
        "Bob est victime d'un mauvais sort. Vous savez que le rituel pour lever cette malédiction est consigné dans un grimoire qui se trouve dans une bibliothèque quantique. Le problème est que dans une bibliothèque quantique, l'emprunt se fait toujours au hasard.La section de la bibliotheque contient 4 livres dont un est le bon et les autres contienne des malédiction"
      ],
      "metadata": {
        "id": "riaWNccs2-Ff"
      }
    },
    {
      "cell_type": "code",
      "execution_count": 4,
      "metadata": {
        "id": "BJWpMczKu3jA"
      },
      "outputs": [],
      "source": [
        "import numpy as np\n",
        "from qiskit import *\n",
        "from qiskit import QuantumCircuit, Aer, transpile, assemble\n",
        "from qiskit.visualization import plot_state_city\n",
        "from qiskit.visualization import plot_histogram"
      ]
    },
    {
      "cell_type": "markdown",
      "source": [
        "***Création du circuit***"
      ],
      "metadata": {
        "id": "ZrPeQMf13cDx"
      }
    },
    {
      "cell_type": "markdown",
      "source": [
        "On prépare le système quantique dans un état équilibré de superposition.\n",
        "\n",
        "\n",
        "\n"
      ],
      "metadata": {
        "id": "N90ot0zq3vC-"
      }
    },
    {
      "cell_type": "code",
      "source": [
        "def initialize_circuit(n):\n",
        "    qc = QuantumCircuit(n, n)\n",
        "    qc.h(range(n))\n",
        "    return qc"
      ],
      "metadata": {
        "id": "rDF0SRB0VEYr"
      },
      "execution_count": 9,
      "outputs": []
    },
    {
      "cell_type": "markdown",
      "source": [
        "On applique une opération qui affecte négativement l'amplitude de l'état correspondant à la réponse incorrecte."
      ],
      "metadata": {
        "id": "iIAN83uXWF_Y"
      }
    },
    {
      "cell_type": "code",
      "source": [
        "def oracle(n, marked_item):\n",
        "    qc = QuantumCircuit(n)\n",
        "    for qubit in range(n):\n",
        "        qc.x(qubit) if marked_item & (1 << qubit) else None\n",
        "    qc.cz(0, n - 1)\n",
        "    for qubit in range(n):\n",
        "        qc.x(qubit) if marked_item & (1 << qubit) else None\n",
        "    return qc"
      ],
      "metadata": {
        "id": "VG-A_IPJvv4i"
      },
      "execution_count": 10,
      "outputs": []
    },
    {
      "cell_type": "markdown",
      "source": [
        "On applique une opération de diffusion qui amplifie l'amplitude de l'état correspondant à la réponse correcte.\n"
      ],
      "metadata": {
        "id": "Ne_A0lRR3-Tk"
      }
    },
    {
      "cell_type": "code",
      "source": [
        "def diffusion(n):\n",
        "    qc = QuantumCircuit(n)\n",
        "    qc.h(range(n))\n",
        "    qc.x(range(n))\n",
        "    qc.h(n - 1)\n",
        "    qc.mct(list(range(n - 1)), n - 1)\n",
        "    qc.h(n - 1)\n",
        "    qc.x(range(n))\n",
        "    qc.h(range(n))\n",
        "    return qc\n"
      ],
      "metadata": {
        "id": "ht4JdLU7v22J"
      },
      "execution_count": 11,
      "outputs": []
    },
    {
      "cell_type": "markdown",
      "source": [
        "On Implémente complètement l'algorithme de Grover.\n"
      ],
      "metadata": {
        "id": "UM_VSI424mlv"
      }
    },
    {
      "cell_type": "code",
      "source": [
        "def grover_algorithm(n, marked_item, num_iterations):\n",
        "    grover_circuit = initialize_circuit(n)\n",
        "\n",
        "    for _ in range(num_iterations):\n",
        "        grover_circuit.append(oracle(n, marked_item), range(n))\n",
        "        grover_circuit.append(diffusion(n), range(n))\n",
        "\n",
        "    grover_circuit.measure(range(n), range(n))\n",
        "\n",
        "    return grover_circuit\n"
      ],
      "metadata": {
        "id": "H5ZTwtt_w1qH"
      },
      "execution_count": 12,
      "outputs": []
    },
    {
      "cell_type": "markdown",
      "source": [
        "4 livres (2 qubits), où le grimoire correct est le 3ème livre"
      ],
      "metadata": {
        "id": "8iwfjgWx5Rxw"
      }
    },
    {
      "cell_type": "code",
      "source": [
        "n = 2\n",
        "marked_item = 3\n",
        "num_iterations = 1\n",
        "\n",
        "circuit = grover_algorithm(n, marked_item, num_iterations)"
      ],
      "metadata": {
        "id": "B0rxbA3sxDN8"
      },
      "execution_count": null,
      "outputs": []
    },
    {
      "cell_type": "markdown",
      "source": [
        "On lance le simulateur quantique"
      ],
      "metadata": {
        "id": "_EzNz2bD5wWr"
      }
    },
    {
      "cell_type": "code",
      "source": [
        "simulator = Aer.get_backend('qasm_simulator')\n",
        "compiled_circuit = transpile(circuit, simulator)\n",
        "result = simulator.run(assemble(compiled_circuit)).result()\n",
        "\n"
      ],
      "metadata": {
        "id": "acnQLkvr5-W8"
      },
      "execution_count": null,
      "outputs": []
    },
    {
      "cell_type": "markdown",
      "source": [
        "On regarde les résultats"
      ],
      "metadata": {
        "id": "TtBuONmD6L4E"
      }
    },
    {
      "cell_type": "code",
      "source": [
        "counts = result.get_counts()\n",
        "print(\"Counts:\", counts)"
      ],
      "metadata": {
        "colab": {
          "base_uri": "https://localhost:8080/"
        },
        "id": "g_Eq8bjoxJk5",
        "outputId": "d533bda4-d1d0-426e-fe32-6c9746a2afe5"
      },
      "execution_count": 15,
      "outputs": [
        {
          "output_type": "stream",
          "name": "stdout",
          "text": [
            "Counts: {'00': 1024}\n"
          ]
        }
      ]
    },
    {
      "cell_type": "markdown",
      "source": [
        "Comme nous pouvons le voir, tout au long des simulations, le même résultat est obtenu, donc nous avons 100% de possibilités d'obtenir le bon résultat"
      ],
      "metadata": {
        "id": "meoWHS1cXe0n"
      }
    }
  ]
}